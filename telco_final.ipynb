{
 "cells": [
  {
   "attachments": {
    "image.png": {
     "image/png": "[encoded data removed]"
    }
   },
   "cell_type": "markdown",
   "metadata": {},
   "source": [
    "<div style=\"background-color: #212946; padding: 10px; color: #F62196; text-align: center;\">\n",
    "\n",
    "<b>*Codeup Project*</b>\n",
    "***\n",
    "</div>\n",
    "\n",
    "<div style=\"background-color: #212946; padding: 10px; text-align: center; color: #18C0C4;\">\n",
    "\n",
    "\n",
    "<br>\n",
    "<br>\n",
    "<br>\n",
    "<br>\n",
    "\n",
    "# **Project Telcoco** \n",
    "<br>\n",
    "<br>\n",
    "\n",
    "![image.png](attachment:image.png) \n",
    "<br>\n",
    "<br>\n",
    "<br>\n",
    "<br>\n",
    "<br>\n",
    "<br>\n",
    "<br>\n",
    "<br>\n",
    "<br>\n",
    "<br>\n",
    "<br>\n",
    "\n",
    "</div>"
   ]
  },
  {
   "cell_type": "markdown",
   "metadata": {},
   "source": [
    "<div style=\"background-color: #212946; padding: 10px; color: #18C0C4;\">\n",
    "\n",
    "## **Goals**"
   ]
  },
  {
   "cell_type": "markdown",
   "metadata": {},
   "source": [
    "* Discover drivers of churn of Telco customers\n",
    "\n",
    "* Use drivers to develop a machine learning models to identify drivers of churn\n",
    "\n",
    "* Churn as a customer ending their contract or not renewing their contract with Telco"
   ]
  },
  {
   "cell_type": "markdown",
   "metadata": {},
   "source": [
    "<div style=\"background-color: #212946; padding: 10px; color: #18C0C4;\">\n",
    " \n",
    "## **Imports**"
   ]
  },
  {
   "cell_type": "markdown",
   "metadata": {},
   "source": [
    "```python\n",
    "import warnings\n",
    "warnings.filterwarnings(\"ignore\")\n",
    "\n",
    "import prepare as p\n",
    "import explore as e\n",
    "import model as m\n",
    "plt.style.use('https://github.com/dhaitz/matplotlib-stylesheets/raw/master/pitayasmoothie-dark.mplstyle')\n",
    "```"
   ]
  },
  {
   "cell_type": "markdown",
   "metadata": {},
   "source": [
    "<div style=\"background-color: #212946; padding: 10px; color: #18C0C4;\">\n",
    " \n",
    "## **Acquire**"
   ]
  },
  {
   "cell_type": "markdown",
   "metadata": {},
   "source": [
    "* Data pulled from Codeup MySQL Database\n",
    "\n",
    "* Data initially exported on 21 August 2023 as a csv\n",
    "\n",
    "* DataFrame contained 7,043 rows and 21 columns before any manipulation\n",
    "\n",
    "* Each row represents a unique customer of Telco\n",
    "\n",
    "* Each column represents one of 21 elements of the customer account"
   ]
  },
  {
   "cell_type": "markdown",
   "metadata": {},
   "source": [
    "<div style=\"background-color: #212946; padding: 10px; color: #18C0C4;\">\n",
    " \n",
    "## **Prepare**"
   ]
  },
  {
   "cell_type": "markdown",
   "metadata": {},
   "source": [
    "- Drop the joiner `_id` columns from SQL\n",
    "\n",
    "- Fill `Null` in `internet_service_type` with what the rest of the table uses, `No internet service`\n",
    "\n",
    "- Nine `Null` in `total_charges` after `pd.to_numeric()` also have 0 tenure. We'll assume they're new and haven't been charged\n",
    "\n",
    "- Automatic payments could be important for churn, so we make it's own column `automatic_payments`\n",
    "\n",
    "- Change `senior_citizen` to Yes / No for better visuals\n",
    "\n",
    "- Change `tenure` to `tenure_months`\n",
    "\n",
    "- Create `tenure_years` by dividing `tenure_months` by 12 and rounding down\n",
    "\n",
    "- Create `total_add_ons` that counts all of the add ons (value 1 - 6)\n",
    "\n",
    "- Rename some columns for clarity `partner` to `married` and `dependents` to `kids` (confirmed some married and dependents 0)"
   ]
  },
  {
   "cell_type": "markdown",
   "metadata": {},
   "source": [
    "<div style=\"background-color: #212946; padding: 10px; color: #18C0C4;\">\n",
    "\n",
    "\n",
    "## **Explore**"
   ]
  },
  {
   "cell_type": "markdown",
   "metadata": {},
   "source": [
    "---\n",
    "\n",
    "### **1. Is `churn` independent from `paperless_billing`?**"
   ]
  },
  {
   "cell_type": "markdown",
   "metadata": {},
   "source": [
    "* $H_0$: `churn` is independent from `paperless_billing`\n",
    "\n",
    "* $H_a$: `churn` is **NOT** independent from `paperless_billing`"
   ]
  },
  {
   "cell_type": "code",
   "execution_count": 6,
   "metadata": {},
   "outputs": [],
   "source": [
    "## Graph"
   ]
  },
  {
   "cell_type": "markdown",
   "metadata": {},
   "source": [
    "* Discrete (`churn`) vs Discrete (`paperless_billing`) = $Chi^2$\n",
    "    - $Chi^2$ = \n",
    "    - $p$ = \n",
    "<br>\n",
    "\n",
    "<u><b>We reject the null hypothesis.</b></u> "
   ]
  },
  {
   "cell_type": "markdown",
   "metadata": {},
   "source": [
    "*There is strong evidence to support the idea that `churn` is not independent from `paperless_billing`*\n",
    "- *Those enrolled in `paperless_billing` appear to churn twice as much as those who aren't.*"
   ]
  },
  {
   "cell_type": "markdown",
   "metadata": {},
   "source": [
    "---\n",
    "\n",
    "### **2. Is `churn` independent from `payment_type`?**"
   ]
  },
  {
   "cell_type": "markdown",
   "metadata": {},
   "source": [
    "* $H_0$: `churn` is independent from `payment_type`\n",
    "\n",
    "* $H_a$: `churn` is **NOT** independent from `payment_type`"
   ]
  },
  {
   "cell_type": "code",
   "execution_count": 7,
   "metadata": {},
   "outputs": [],
   "source": [
    "## GRAPH"
   ]
  },
  {
   "cell_type": "markdown",
   "metadata": {},
   "source": [
    "* Discrete (`churn`) vs Discrete (`payment_type`) = $Chi^2$\n",
    "    - $Chi^2$ = \n",
    "    - $p$ = \n",
    "<br>\n",
    "\n",
    "<u><b>We reject the null hypothesis.</b></u> "
   ]
  },
  {
   "cell_type": "markdown",
   "metadata": {},
   "source": [
    "*There is strong evidence to support the idea that `churn` is not independent from `payment_type`*\n",
    "- *`Electronic_check` payment being the most common among churn*"
   ]
  },
  {
   "cell_type": "markdown",
   "metadata": {},
   "source": [
    "---\n",
    "\n",
    "### **3. Is there a difference in `churn` based on `internet_service_types`?**"
   ]
  },
  {
   "cell_type": "markdown",
   "metadata": {},
   "source": [
    "* $H_0$: `churn` is independent from `internet_service_type`\n",
    "\n",
    "* $H_a$: `churn` is **NOT** independent from `internet_service_type`"
   ]
  },
  {
   "cell_type": "code",
   "execution_count": 9,
   "metadata": {},
   "outputs": [],
   "source": [
    "## GRAPH"
   ]
  },
  {
   "cell_type": "markdown",
   "metadata": {},
   "source": [
    "* Discrete (`churn`) vs Discrete (`internet_service_type`) = $Chi^2$\n",
    "    - $Chi^2$ = \n",
    "    - $p$ = \n",
    "<br>\n",
    "\n",
    "<u><b>We reject the null hypothesis.</b></u>"
   ]
  },
  {
   "cell_type": "markdown",
   "metadata": {},
   "source": [
    "*There is strong evidence to support the idea that `churn` is not independent from `internet_service_type`*\n",
    "- *`Fiber_optic_internet` being the most common among churn*"
   ]
  },
  {
   "cell_type": "markdown",
   "metadata": {},
   "source": [
    "---\n",
    "\n",
    "### **4. Is `churn` independent from `monthly_charges`?**"
   ]
  },
  {
   "cell_type": "markdown",
   "metadata": {},
   "source": [
    "* $H_0$: There is **NO** difference in `churn` based on `monthly_charges`\n",
    "\n",
    "* $H_a$: There is a difference in `churn` based on `monthly_charges`"
   ]
  },
  {
   "cell_type": "code",
   "execution_count": 11,
   "metadata": {},
   "outputs": [],
   "source": [
    "## GRAPH"
   ]
  },
  {
   "cell_type": "markdown",
   "metadata": {},
   "source": [
    "* Discrete (`churn`) vs Continuous (`monthly_charges`) = $Mann$-$Whitney$ $U$\n",
    "    - $Mann$-$Whitney$ $U$ statistic = \n",
    "    - $p$ = \n",
    "<br>\n",
    "\n",
    "<u><b>We reject the null hypothesis.</b></u>"
   ]
  },
  {
   "cell_type": "markdown",
   "metadata": {},
   "source": [
    "*There is strong evidence to support the idea that `churn` is not independent from `monthly_charges`*\n",
    " - *Higher average monthly charges amongst churn*"
   ]
  },
  {
   "cell_type": "markdown",
   "metadata": {},
   "source": [
    "---\n",
    "\n",
    "### **5. Is `gender` independent from `internet_service_type`?**"
   ]
  },
  {
   "cell_type": "markdown",
   "metadata": {},
   "source": [
    "* $H_0$: There is **NO** difference in `churn` based on `gender`\n",
    "\n",
    "* $H_a$: There is a difference in `churn` based on `gender`"
   ]
  },
  {
   "cell_type": "code",
   "execution_count": null,
   "metadata": {},
   "outputs": [],
   "source": [
    "### GRAPH"
   ]
  },
  {
   "cell_type": "markdown",
   "metadata": {},
   "source": [
    "* Discrete (`churn`) vs Discrete (`gender`) = $Chi^2$\n",
    "    - $Chi^2$ = \n",
    "    - $p$ = \n",
    "<br>\n",
    "\n",
    "<u><b>We reject the null hypothesis.</b></u>"
   ]
  },
  {
   "cell_type": "markdown",
   "metadata": {},
   "source": [
    "*There is strong evidence to support the idea that `churn` is not independent from `monthly_charges`*\n",
    " - *Higher average monthly charges amongst churn*"
   ]
  },
  {
   "cell_type": "markdown",
   "metadata": {},
   "source": [
    "---\n",
    "\n",
    "### **6. Is `churn` independent from `tech_support`?**"
   ]
  },
  {
   "cell_type": "markdown",
   "metadata": {},
   "source": [
    "* $H_0$: There is **NO** difference in `churn` based on `tech_support`\n",
    "\n",
    "* $H_a$: There is a difference in `churn` based on `tech_support`"
   ]
  },
  {
   "cell_type": "code",
   "execution_count": 12,
   "metadata": {},
   "outputs": [],
   "source": [
    "## Graph"
   ]
  },
  {
   "cell_type": "markdown",
   "metadata": {},
   "source": [
    "* Discrete (`churn`) vs Discrete (`tech_support?`) = $Chi^2$\n",
    "    - $Chi^2$ = \n",
    "    - $p$ = \n",
    "<br>\n",
    "\n",
    "<u><b>We reject the null hypothesis.</b></u>"
   ]
  },
  {
   "cell_type": "markdown",
   "metadata": {},
   "source": [
    "<div style=\"background-color: #212946; padding: 10px; color: #18C0C4;\">\n",
    " \n",
    "## **Modeling**"
   ]
  },
  {
   "cell_type": "markdown",
   "metadata": {},
   "source": [
    "* Accuracy will be the evaluation metric (*Given more time, other metrics could be evaluated and more hyperparamters tested*)\n",
    "<pre>\n",
    "        <u>     TP + TN     </u>\n",
    "        TP + TN + FP + FN\n",
    "</pre>\n",
    "\n",
    "\n"
   ]
  },
  {
   "cell_type": "markdown",
   "metadata": {},
   "source": [
    "* Guessing `no_churn` for every customer gives an accuracy of 73%\n",
    "    - 73% will be the baseline accuracy"
   ]
  },
  {
   "cell_type": "markdown",
   "metadata": {},
   "source": [
    "* Target feature is `churn`\n",
    "    - 27% `churn`\n",
    "    - 73% `no_churn`"
   ]
  },
  {
   "cell_type": "markdown",
   "metadata": {},
   "source": [
    "* Models will be developed and evaluated using 4 different model types, various features, and various hyperparameter configurations\n",
    "    - Decision Tree\n",
    "    - Random Forest\n",
    "    - K-Nearest Neighbor\n",
    "    - Logistic Regression"
   ]
  },
  {
   "cell_type": "markdown",
   "metadata": {},
   "source": [
    "* Models will be evaluated on train and validate datasets\n"
   ]
  },
  {
   "cell_type": "markdown",
   "metadata": {},
   "source": [
    "\n",
    "* Best performing model will be the only one evaluated on the test dataset"
   ]
  },
  {
   "cell_type": "code",
   "execution_count": null,
   "metadata": {},
   "outputs": [],
   "source": [
    "### BASELINE GRAPH"
   ]
  },
  {
   "cell_type": "markdown",
   "metadata": {},
   "source": [
    "### 1. Model Type 1"
   ]
  },
  {
   "cell_type": "code",
   "execution_count": null,
   "metadata": {},
   "outputs": [],
   "source": []
  },
  {
   "cell_type": "markdown",
   "metadata": {},
   "source": [
    "### 2. Model Type 1 on Test Set (Best Perfoming Model on Test Split)"
   ]
  },
  {
   "cell_type": "code",
   "execution_count": null,
   "metadata": {},
   "outputs": [],
   "source": []
  },
  {
   "cell_type": "markdown",
   "metadata": {},
   "source": [
    "### 3. Model 3"
   ]
  },
  {
   "cell_type": "code",
   "execution_count": null,
   "metadata": {},
   "outputs": [],
   "source": []
  },
  {
   "cell_type": "markdown",
   "metadata": {},
   "source": [
    "### 4. Model 4"
   ]
  },
  {
   "cell_type": "code",
   "execution_count": null,
   "metadata": {},
   "outputs": [],
   "source": []
  },
  {
   "cell_type": "markdown",
   "metadata": {},
   "source": [
    "### 5. Model 5"
   ]
  },
  {
   "cell_type": "code",
   "execution_count": null,
   "metadata": {},
   "outputs": [],
   "source": []
  },
  {
   "cell_type": "markdown",
   "metadata": {},
   "source": [
    "### Modeling Takeaways"
   ]
  },
  {
   "cell_type": "markdown",
   "metadata": {},
   "source": [
    "* Decision Tree, Random Forest, and KNN had between 2.5-4% difference for train and validate\n",
    "\n",
    "* Logistic Regression had about 1% difference for train and validate, best overall\n",
    "\n",
    "* With the test done on Logistic Regression, we get an 80.7% accuracy\n",
    "\n",
    "    - 80.7% is higher than our baseline of 73.47%"
   ]
  },
  {
   "cell_type": "markdown",
   "metadata": {},
   "source": [
    "<div style=\"background-color: #212946; padding: 10px; color: #18C0C4;\">\n",
    " \n",
    "## **Conclusion**"
   ]
  },
  {
   "cell_type": "markdown",
   "metadata": {},
   "source": [
    "### **Takeaways and Key Findings**"
   ]
  },
  {
   "cell_type": "markdown",
   "metadata": {},
   "source": [
    "- Payment type was found to be a driver of churn\n",
    "\n",
    "  - Electronic check being the most common among churn"
   ]
  },
  {
   "cell_type": "markdown",
   "metadata": {},
   "source": [
    "- Fiber optic internet being a driver of churn was surprising considering it has faster internet speeds\n",
    "\n",
    "  - Perhaps a competitor is offering it cheaper"
   ]
  },
  {
   "cell_type": "markdown",
   "metadata": {},
   "source": [
    "- Paperless billing was found to be a driver of churn\n",
    "\n",
    "  - Having it enabled was the most common among churn"
   ]
  },
  {
   "cell_type": "markdown",
   "metadata": {},
   "source": [
    "- Monthly charges was found to be a driver of churn, higher charges for churn"
   ]
  },
  {
   "cell_type": "markdown",
   "metadata": {},
   "source": [
    "### **Recommendations**\n",
    "\n",
    "- Check with the finance department to figure out if there are issues with electronic check."
   ]
  },
  {
   "cell_type": "markdown",
   "metadata": {},
   "source": [
    "- Check with internet department to see if there are frequent issues with fiber optic internet."
   ]
  },
  {
   "cell_type": "markdown",
   "metadata": {},
   "source": [
    "- Possibly offer tech support for free or cheaper. People without it tend to leave."
   ]
  },
  {
   "cell_type": "markdown",
   "metadata": {},
   "source": [
    "### **Next Steps**"
   ]
  },
  {
   "cell_type": "markdown",
   "metadata": {},
   "source": [
    "- Given more time I could check what is causing the high monthly charges that lead to customers churning"
   ]
  }
 ],
 "metadata": {
  "kernelspec": {
   "display_name": "Python 3",
   "language": "python",
   "name": "python3"
  },
  "language_info": {
   "codemirror_mode": {
    "name": "ipython",
    "version": 3
   },
   "file_extension": ".py",
   "mimetype": "text/x-python",
   "name": "python",
   "nbconvert_exporter": "python",
   "pygments_lexer": "ipython3",
   "version": "3.11.4"
  },
  "orig_nbformat": 4
 },
 "nbformat": 4,
 "nbformat_minor": 2
}
